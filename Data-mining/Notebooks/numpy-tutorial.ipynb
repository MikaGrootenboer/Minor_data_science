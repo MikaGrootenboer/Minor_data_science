{
 "cells": [
  {
   "cell_type": "markdown",
   "metadata": {},
   "source": [
    "## Contents\n",
    "\n",
    "- How To Ask For Help\n",
    "- How to make numpy Arrays\n",
    "- Array math\n",
    "- How to subset, slice, and index arrays\n",
    "- How to manipulate arrays"
   ]
  },
  {
   "cell_type": "markdown",
   "metadata": {},
   "source": [
    "### How to Ask for Help"
   ]
  },
  {
   "cell_type": "code",
   "execution_count": 6,
   "metadata": {},
   "outputs": [
    {
     "name": "stdout",
     "output_type": "stream",
     "text": [
      "Search results for 'mean'\n",
      "-------------------------\n",
      "numpy.mean\n",
      "    Compute the arithmetic mean along the specified axis.\n",
      "numpy.nanmean\n",
      "    Compute the arithmetic mean along the specified axis, ignoring NaNs.\n",
      "numpy.ma.mean\n",
      "    Returns the average of the array elements along given axis.\n",
      "numpy.array_equiv\n",
      "    Returns True if input arrays are shape consistent and all elements equal.\n",
      "numpy.matrix.mean\n",
      "    Returns the average of the matrix elements along the given axis.\n",
      "numpy.chararray.mean\n",
      "    Returns the average of the array elements along given axis.\n",
      "numpy.ma.anom\n",
      "    Compute the anomalies (deviations from the arithmetic mean)\n",
      "numpy.ma.fix_invalid\n",
      "    Return input with invalid data masked and replaced by a fill value.\n",
      "numpy.exp\n",
      "    Calculate the exponential of all elements in the input array.\n",
      "numpy.pad\n",
      "    Pads an array.\n",
      "numpy.put\n",
      "    Replaces specified elements of an array with given values.\n",
      "numpy.std\n",
      "    Compute the standard deviation along the specified axis.\n",
      "numpy.sum\n",
      "    Sum of array elements over a given axis.\n",
      "numpy.var\n",
      "    Compute the variance along the specified axis.\n",
      "numpy.copy\n",
      "    Return an array copy of the given object.\n",
      "numpy.full\n",
      "    Return a new array of given shape and type, filled with `fill_value`.\n",
      "numpy.prod\n",
      "    Return the product of array elements over a given axis.\n",
      "numpy.take\n",
      "    Take elements from an array along an axis.\n",
      "numpy.block\n",
      "    Assemble an nd-array from nested lists of blocks.\n",
      "numpy.isnan\n",
      "    Test element-wise for NaN and return result as a boolean array.\n",
      "numpy.ravel\n",
      "    Return a contiguous flattened array.\n",
      "numpy.copyto\n",
      "    Copies values from one array to another, broadcasting as necessary.\n",
      "numpy.einsum\n",
      "    einsum(subscripts, *operands, out=None, dtype=None, order='K',\n",
      "numpy.kaiser\n",
      "    Return the Kaiser window.\n",
      "numpy.median\n",
      "    Compute the median along the specified axis.\n",
      "numpy.nanmax\n",
      "    Return the maximum of an array or maximum along an axis, ignoring any\n",
      "numpy.nanmin\n",
      "    Return minimum of an array or minimum along an axis, ignoring any NaNs.\n",
      "numpy.nanstd\n",
      "    Compute the standard deviation along the specified axis, while\n",
      "numpy.nansum\n",
      "    Return the sum of array elements over a given axis treating Not a\n",
      "numpy.nanvar\n",
      "    Compute the variance along the specified axis, while ignoring NaNs.\n",
      "numpy.nditer\n",
      "    Efficient multi-dimensional iterator object to iterate over arrays.\n",
      "numpy.average\n",
      "    Compute the weighted average along the specified axis.\n",
      "numpy.hamming\n",
      "    Return the Hamming window.\n",
      "numpy.hanning\n",
      "    Return the Hanning window.\n",
      "numpy.polyfit\n",
      "    Least squares polynomial fit.\n",
      "numpy.reshape\n",
      "    Gives a new shape to an array without changing its data.\n",
      "numpy.allclose\n",
      "    Returns True if two arrays are element-wise equal within a tolerance.\n",
      "numpy.bartlett\n",
      "    Return the Bartlett window.\n",
      "numpy.blackman\n",
      "    Return the Blackman window.\n",
      "numpy.can_cast\n",
      "    Returns True if cast between data types can occur according to the\n",
      "numpy.digitize\n",
      "    Return the indices of the bins to which each value in input array belongs.\n",
      "numpy.fromfile\n",
      "    Construct an array from data in a text or binary file.\n",
      "numpy.fromiter\n",
      "    Create a new 1-dimensional array from an iterable object.\n",
      "numpy.gradient\n",
      "    Return the gradient of an N-dimensional array.\n",
      "numpy.isfinite\n",
      "    Test element-wise for finiteness (not infinity or not Not a Number).\n",
      "numpy.quantile\n",
      "    Compute the q-th quantile of the data along the specified axis.\n",
      "numpy.full_like\n",
      "    Return a full array with the same shape and type as a given array.\n",
      "numpy.nanmedian\n",
      "    Compute the median along the specified axis, while ignoring NaNs.\n",
      "numpy.ones_like\n",
      "    Return an array of ones with the same shape and type as a given array.\n",
      "numpy.empty_like\n",
      "    Return a new array with the same shape and type as a given array.\n",
      "numpy.frombuffer\n",
      "    Interpret a buffer as a 1-dimensional array.\n",
      "numpy.nan_to_num\n",
      "    Replace NaN with zero and infinity with large finite numbers.\n",
      "numpy.percentile\n",
      "    Compute the q-th percentile of the data along the specified axis.\n",
      "numpy.recfromcsv\n",
      "    Load ASCII data stored in a comma-separated file.\n",
      "numpy.recfromtxt\n",
      "    Load ASCII data from a file and return it in a record array.\n",
      "numpy.trim_zeros\n",
      "    Trim the leading and/or trailing zeros from a 1-D array or sequence.\n",
      "numpy.zeros_like\n",
      "    Return an array of zeros with the same shape and type as a given array.\n",
      "numpy.nanquantile\n",
      "    Compute the qth quantile of the data along the specified axis,\n",
      "numpy.ma.dot\n",
      "    Return the dot product of two arrays.\n",
      "numpy.ma.exp\n",
      "    Calculate the exponential of all elements in the input array.\n",
      "numpy.ma.var\n",
      "    Compute the variance along the specified axis.\n",
      "numpy.ma.copy\n",
      "    a.copy(order='C')\n",
      "numpy.busday_offset\n",
      "    First adjusts the date to fall on a valid day according to\n",
      "numpy.count_nonzero\n",
      "    Counts the number of non-zero values in the array ``a``.\n",
      "numpy.nanpercentile\n",
      "    Compute the qth percentile of the data along the specified axis,\n",
      "numpy.ma.ravel\n",
      "    Returns a 1D version of self, as a view.\n",
      "numpy.ma.median\n",
      "    Compute the median along the specified axis.\n",
      "numpy.bytes0.split\n",
      "    Return a list of the sections in the bytes, using sep as the delimiter.\n",
      "numpy.linalg.svd\n",
      "    Singular Value Decomposition.\n",
      "numpy.ma.polyfit\n",
      "    Least squares polynomial fit.\n",
      "numpy.may_share_memory\n",
      "    Determine if two arrays might share memory\n",
      "numpy.bytes0.decode\n",
      "    Decode the bytes using the codec registered for encoding.\n",
      "numpy.linalg.cond\n",
      "    Compute the condition number of a matrix.\n",
      "numpy.bytes0.rsplit\n",
      "    Return a list of the sections in the bytes, using sep as the delimiter.\n",
      "numpy.linalg.norm\n",
      "    Matrix or vector norm.\n",
      "numpy.bytes0.replace\n",
      "    Return a copy with all occurrences of substring old replaced by new.\n",
      "numpy.chararray.copy\n",
      "    Return a copy of the array.\n",
      "numpy.chararray.sort\n",
      "    Sort an array, in-place.\n",
      "numpy.matlib.randn\n",
      "    Return a random matrix with data from the \"standard normal\" distribution.\n",
      "numpy.chararray.view\n",
      "    New view of array with the same data.\n",
      "numpy.matrix.ravel\n",
      "    Return a flattened matrix.\n",
      "numpy.ma.empty_like\n",
      "    Return a new array with the same shape and type as a given array.\n",
      "numpy.ma.frombuffer\n",
      "    Interpret a buffer as a 1-dimensional array.\n",
      "numpy.histogram_bin_edges\n",
      "    Function to calculate only the edges of the bins used by the `histogram` function.\n",
      "numpy.chararray.astype\n",
      "    Copy of the array, cast to a specified type.\n",
      "numpy.matrix.flatten\n",
      "    Return a flattened copy of the matrix.\n",
      "numpy.chararray.flatten\n",
      "    Return a copy of the array collapsed into one dimension.\n",
      "numpy.chararray.tobytes\n",
      "    Construct Python bytes containing the raw data bytes in the array.\n",
      "numpy.chararray.tostring\n",
      "    Construct Python bytes containing the raw data bytes in the array.\n",
      "numpy.matrix.partition\n",
      "    Rearranges the elements in the array in such a way that the value of the\n",
      "numpy.chararray.transpose\n",
      "    a.transpose(*axes)None\n"
     ]
    }
   ],
   "source": [
    "import numpy as np\n",
    "# Look up info on `mean` with `np.lookfor()`\n",
    "print(np.lookfor(\"mean\"))"
   ]
  },
  {
   "cell_type": "code",
   "execution_count": 7,
   "metadata": {},
   "outputs": [
    {
     "name": "stdout",
     "output_type": "stream",
     "text": [
      "Data-type of the array's elements.\n",
      "\n",
      "Parameters\n",
      "----------\n",
      "None\n",
      "\n",
      "Returns\n",
      "-------\n",
      "d : numpy dtype object\n",
      "\n",
      "See Also\n",
      "--------\n",
      "numpy.dtype\n",
      "\n",
      "Examples\n",
      "--------\n",
      ">>> x\n",
      "array([[0, 1],\n",
      "       [2, 3]])\n",
      ">>> x.dtype\n",
      "dtype('int32')\n",
      ">>> type(x.dtype)\n",
      "<type 'numpy.dtype'>\n"
     ]
    }
   ],
   "source": [
    "# Get info on data types with `np.info()`\n",
    "np.info(np.ndarray.dtype)"
   ]
  },
  {
   "cell_type": "markdown",
   "metadata": {},
   "source": [
    "### How to make numpy arrays"
   ]
  },
  {
   "cell_type": "code",
   "execution_count": 160,
   "metadata": {},
   "outputs": [
    {
     "name": "stdout",
     "output_type": "stream",
     "text": [
      "[1 2 3]\n",
      "int32\n",
      "1\n",
      "(3,)\n",
      "3\n"
     ]
    }
   ],
   "source": [
    "import numpy as np\n",
    "a = np.array([1,2,3])\n",
    "print(a)\n",
    "print(a.dtype)\n",
    "print(a.ndim)\n",
    "print(a.shape)\n",
    "print(a.size)"
   ]
  },
  {
   "cell_type": "code",
   "execution_count": 48,
   "metadata": {},
   "outputs": [
    {
     "name": "stdout",
     "output_type": "stream",
     "text": [
      "[[1 2 3]\n",
      " [4 5 6]]\n",
      "int32\n",
      "(2, 3)\n"
     ]
    },
    {
     "data": {
      "text/plain": [
       "array([[1., 2., 3.],\n",
       "       [4., 5., 6.]])"
      ]
     },
     "execution_count": 48,
     "metadata": {},
     "output_type": "execute_result"
    }
   ],
   "source": [
    "b = np.array([[1,2,3],[4,5,6]])\n",
    "print(b)\n",
    "print(b.dtype)\n",
    "print(b.shape)\n",
    "# Change the data type of `my_array`\n",
    "b.astype(float)"
   ]
  },
  {
   "cell_type": "code",
   "execution_count": 27,
   "metadata": {},
   "outputs": [
    {
     "name": "stdout",
     "output_type": "stream",
     "text": [
      "[0 1 2 3 4 5 6 7 8 9]\n",
      "int64\n"
     ]
    }
   ],
   "source": [
    "c = np.array([x for x in range(10)],dtype=np.int64)\n",
    "print(c)\n",
    "print(c.dtype)"
   ]
  },
  {
   "cell_type": "code",
   "execution_count": 28,
   "metadata": {},
   "outputs": [
    {
     "name": "stdout",
     "output_type": "stream",
     "text": [
      "[0. 1. 2. 3. 4. 5. 6. 7. 8. 9.]\n",
      "float64\n"
     ]
    }
   ],
   "source": [
    "d = np.array([x for x in range(10)],dtype=np.float)\n",
    "print(d)\n",
    "print(d.dtype)"
   ]
  },
  {
   "cell_type": "code",
   "execution_count": 31,
   "metadata": {},
   "outputs": [
    {
     "data": {
      "text/plain": [
       "array([[1., 1., 1., 1.],\n",
       "       [1., 1., 1., 1.],\n",
       "       [1., 1., 1., 1.]])"
      ]
     },
     "execution_count": 31,
     "metadata": {},
     "output_type": "execute_result"
    }
   ],
   "source": [
    "# Create an array of ones\n",
    "np.ones((3,4))"
   ]
  },
  {
   "cell_type": "code",
   "execution_count": 35,
   "metadata": {},
   "outputs": [
    {
     "data": {
      "text/plain": [
       "array([[[0, 0, 0, 0],\n",
       "        [0, 0, 0, 0],\n",
       "        [0, 0, 0, 0]],\n",
       "\n",
       "       [[0, 0, 0, 0],\n",
       "        [0, 0, 0, 0],\n",
       "        [0, 0, 0, 0]]], dtype=int16)"
      ]
     },
     "execution_count": 35,
     "metadata": {},
     "output_type": "execute_result"
    }
   ],
   "source": [
    "# Create an array of zeros\n",
    "np.zeros((2,3,4),dtype=np.int16)"
   ]
  },
  {
   "cell_type": "code",
   "execution_count": 36,
   "metadata": {},
   "outputs": [
    {
     "data": {
      "text/plain": [
       "array([[0.2879652 , 0.15831094],\n",
       "       [0.55429166, 0.48372932]])"
      ]
     },
     "execution_count": 36,
     "metadata": {},
     "output_type": "execute_result"
    }
   ],
   "source": [
    "# Create an array with random values\n",
    "np.random.random((2,2))"
   ]
  },
  {
   "cell_type": "code",
   "execution_count": 37,
   "metadata": {},
   "outputs": [
    {
     "data": {
      "text/plain": [
       "array([[0., 0.],\n",
       "       [0., 0.],\n",
       "       [0., 0.]])"
      ]
     },
     "execution_count": 37,
     "metadata": {},
     "output_type": "execute_result"
    }
   ],
   "source": [
    "# Create an empty array\n",
    "np.empty((3,2))"
   ]
  },
  {
   "cell_type": "code",
   "execution_count": 38,
   "metadata": {},
   "outputs": [
    {
     "data": {
      "text/plain": [
       "array([[7, 7],\n",
       "       [7, 7]])"
      ]
     },
     "execution_count": 38,
     "metadata": {},
     "output_type": "execute_result"
    }
   ],
   "source": [
    "# Create a full array\n",
    "np.full((2,2),7)"
   ]
  },
  {
   "cell_type": "code",
   "execution_count": 39,
   "metadata": {},
   "outputs": [
    {
     "data": {
      "text/plain": [
       "array([10, 15, 20])"
      ]
     },
     "execution_count": 39,
     "metadata": {},
     "output_type": "execute_result"
    }
   ],
   "source": [
    "# Create an array of evenly-spaced values\n",
    "np.arange(10,25,5)"
   ]
  },
  {
   "cell_type": "code",
   "execution_count": 40,
   "metadata": {},
   "outputs": [
    {
     "data": {
      "text/plain": [
       "array([0.  , 0.25, 0.5 , 0.75, 1.  , 1.25, 1.5 , 1.75, 2.  ])"
      ]
     },
     "execution_count": 40,
     "metadata": {},
     "output_type": "execute_result"
    }
   ],
   "source": [
    "# Create an array of evenly-spaced values\n",
    "np.linspace(0,2,9)"
   ]
  },
  {
   "cell_type": "code",
   "execution_count": 42,
   "metadata": {},
   "outputs": [
    {
     "data": {
      "text/plain": [
       "array([[1., 0., 0., 0., 0., 0., 0., 0.],\n",
       "       [0., 1., 0., 0., 0., 0., 0., 0.],\n",
       "       [0., 0., 1., 0., 0., 0., 0., 0.],\n",
       "       [0., 0., 0., 1., 0., 0., 0., 0.],\n",
       "       [0., 0., 0., 0., 1., 0., 0., 0.],\n",
       "       [0., 0., 0., 0., 0., 1., 0., 0.],\n",
       "       [0., 0., 0., 0., 0., 0., 1., 0.],\n",
       "       [0., 0., 0., 0., 0., 0., 0., 1.]])"
      ]
     },
     "execution_count": 42,
     "metadata": {},
     "output_type": "execute_result"
    }
   ],
   "source": [
    "np.eye(10)\n",
    "# or np.identity(10)\n"
   ]
  },
  {
   "cell_type": "markdown",
   "metadata": {},
   "source": [
    "### Array math"
   ]
  },
  {
   "cell_type": "code",
   "execution_count": 80,
   "metadata": {},
   "outputs": [
    {
     "data": {
      "text/plain": [
       "array([[1, 0, 1],\n",
       "       [0, 1, 0]], dtype=int32)"
      ]
     },
     "execution_count": 80,
     "metadata": {},
     "output_type": "execute_result"
    }
   ],
   "source": [
    "b = np.array([[1,2,3],[4,5,6]])\n",
    "b + 1\n",
    "b - 2\n",
    "b * 3\n",
    "b / 2\n",
    "b % 2\n",
    "# \n",
    "# np.add(b,1)\n",
    "# np.subtract(b,2)\n",
    "# np.multiply(b,3)\n",
    "# np.divide(b,2)\n",
    "# np.remainder(b,2)\n",
    "# np.exp()\n",
    "# np.sqrt()\n",
    "# np.sin()\n",
    "# np.cos() \n",
    "# np.log()"
   ]
  },
  {
   "cell_type": "code",
   "execution_count": 81,
   "metadata": {},
   "outputs": [
    {
     "data": {
      "text/plain": [
       "40"
      ]
     },
     "execution_count": 81,
     "metadata": {},
     "output_type": "execute_result"
    }
   ],
   "source": [
    "a = np.array([1,2,3,4])\n",
    "b = np.array([2,3,4,5])\n",
    "np.dot(a,b)"
   ]
  },
  {
   "cell_type": "code",
   "execution_count": 79,
   "metadata": {},
   "outputs": [
    {
     "data": {
      "text/plain": [
       "array([2.94392029, 0.81649658])"
      ]
     },
     "execution_count": 79,
     "metadata": {},
     "output_type": "execute_result"
    }
   ],
   "source": [
    "a = np.array([1,2,3,4])\n",
    "a.sum() # Array-wise sum\n",
    "a.min() # Array-wise minimum value\n",
    "b = np.array([[5,12,7],[8,9,10]])\n",
    "b.max(axis=0) # result is an array with column maxima \n",
    "b.max(axis=1) # result is an array with row    maxima\n",
    "b.cumsum(axis=1) # cumulative sum of the elements by row\n",
    "b.cumsum(axis=0) # cumulative sum of the elements by column\n",
    "a.mean() # Mean\n",
    "np.median(a) # Median of all elements\n",
    "np.median(b, axis=1) # Medians of rows\n",
    "np.corrcoef(a) # Correlation coefficient\n",
    "np.std(b, axis=1) # Standard deviations of rows"
   ]
  },
  {
   "cell_type": "markdown",
   "metadata": {},
   "source": [
    "### How to subset, slice, and index arrays"
   ]
  },
  {
   "cell_type": "markdown",
   "metadata": {},
   "source": [
    "#### In general, the following holds:\n",
    "a[start:end] # elements from start to end (not including end)\n",
    "a[start:] # all elements from start\n",
    "a[:end] # elements from start to end (not including end)\n",
    "a[:] # all elements"
   ]
  },
  {
   "cell_type": "code",
   "execution_count": 20,
   "metadata": {},
   "outputs": [
    {
     "name": "stdout",
     "output_type": "stream",
     "text": [
      "1\n",
      "7\n",
      "[5 6 7 8]\n",
      "[ 3  7 11]\n"
     ]
    }
   ],
   "source": [
    "# indexing individual elements\n",
    "b = np.array([[1,2,3,4],[5,6,7,8],[9,10,11,12]])\n",
    "print(b[0,0])\n",
    "print(b[1,2])\n",
    "# slicing arrays\n",
    "print(b[1,:]) # just the second row\n",
    "print(b[:,2]) # just the second column\n",
    "# "
   ]
  },
  {
   "cell_type": "code",
   "execution_count": 56,
   "metadata": {},
   "outputs": [
    {
     "name": "stdout",
     "output_type": "stream",
     "text": [
      "[[ True  True  True  True]\n",
      " [ True  True  True  True]\n",
      " [ True False False False]]\n",
      "[1 2 3 4 5 6 7 8 9]\n",
      "[[1 2 3 4]\n",
      " [5 6 7 8]\n",
      " [9 0 0 0]]\n",
      "[[0.35931506 0.08800478 0.7295676  0.88104993 0.04126388]\n",
      " [0.17486776 0.42009741 0.34060658 0.04476892 0.11289131]\n",
      " [0.43804149 0.0710732  0.81624511 0.86611565 0.13111984]]\n"
     ]
    }
   ],
   "source": [
    "# logical indexing\n",
    "b = np.array([[1,2,3,4],[5,6,7,8],[9,10,11,12]])\n",
    "selection = b<10\n",
    "print(selection) \n",
    "print(b[selection])\n",
    "print(b*selection)\n",
    "# logical indexing can be used to select a subset of rows based on elements in a column fullfilling a criterium\n",
    "c = np.random.random((4,5))\n",
    "# print(c)\n",
    "sel = c[:,1]<0.5\n",
    "print(c[sel,:])\n"
   ]
  },
  {
   "cell_type": "code",
   "execution_count": 67,
   "metadata": {},
   "outputs": [
    {
     "name": "stdout",
     "output_type": "stream",
     "text": [
      "[[ 3  1  2]\n",
      " [ 7  5  6]\n",
      " [11  9 10]]\n"
     ]
    }
   ],
   "source": [
    "# advanced indexing\n",
    "# to change the order of the columns:\n",
    "print(b[:,[2,0,1]])\n"
   ]
  },
  {
   "cell_type": "markdown",
   "metadata": {},
   "source": [
    "### How to manipulate arrays"
   ]
  },
  {
   "cell_type": "markdown",
   "metadata": {},
   "source": [
    "#### Advice: do not use the reshape, resize, insert and delete functions"
   ]
  },
  {
   "cell_type": "code",
   "execution_count": 105,
   "metadata": {},
   "outputs": [
    {
     "data": {
      "text/plain": [
       "array([[1, 4],\n",
       "       [2, 5],\n",
       "       [3, 6]])"
      ]
     },
     "execution_count": 105,
     "metadata": {},
     "output_type": "execute_result"
    }
   ],
   "source": [
    "b = np.array([[1,2,3],[4,5,6]])\n",
    "np.transpose(b)\n",
    "# korter:\n",
    "b.T"
   ]
  },
  {
   "cell_type": "code",
   "execution_count": 75,
   "metadata": {},
   "outputs": [
    {
     "name": "stdout",
     "output_type": "stream",
     "text": [
      "(2, 3)\n",
      "[[1 2]\n",
      " [3 4]\n",
      " [5 6]]\n"
     ]
    },
    {
     "data": {
      "text/plain": [
       "array([1, 2, 3, 4, 5, 6])"
      ]
     },
     "execution_count": 75,
     "metadata": {},
     "output_type": "execute_result"
    }
   ],
   "source": [
    "b = np.array([[1,2,3],[4,5,6]])\n",
    "print(b.shape)\n",
    "b=b.reshape(3,2) # this is tricky - don't use ...\n",
    "print(b)\n",
    "b.ravel() # changes to one dimension"
   ]
  },
  {
   "cell_type": "code",
   "execution_count": 122,
   "metadata": {},
   "outputs": [
    {
     "data": {
      "text/plain": [
       "array([[ 1,  2,  3],\n",
       "       [ 4,  5,  6],\n",
       "       [21, 22, 23]])"
      ]
     },
     "execution_count": 122,
     "metadata": {},
     "output_type": "execute_result"
    }
   ],
   "source": [
    "b = np.array([[1,2,3],[4,5,6]])\n",
    "np.append(b,[[21,22,23]],axis=0)"
   ]
  },
  {
   "cell_type": "code",
   "execution_count": 76,
   "metadata": {},
   "outputs": [
    {
     "name": "stdout",
     "output_type": "stream",
     "text": [
      "[ 1 33 34  2  3  4  5  6]\n"
     ]
    },
    {
     "data": {
      "text/plain": [
       "array([[ 1, 33, 34,  2],\n",
       "       [ 3,  4,  5,  6]])"
      ]
     },
     "execution_count": 76,
     "metadata": {},
     "output_type": "execute_result"
    }
   ],
   "source": [
    "b = np.array([[1,2,3],[4,5,6]])\n",
    "b = np.insert(b,[1],[33,34])\n",
    "np.reshape(b,(2,4))"
   ]
  },
  {
   "cell_type": "code",
   "execution_count": 128,
   "metadata": {},
   "outputs": [
    {
     "data": {
      "text/plain": [
       "array([1, 2, 3, 4, 6])"
      ]
     },
     "execution_count": 128,
     "metadata": {},
     "output_type": "execute_result"
    }
   ],
   "source": [
    "b = np.array([[1,2,3],[4,5,6]])\n",
    "np.delete(b,4)"
   ]
  },
  {
   "cell_type": "code",
   "execution_count": 77,
   "metadata": {},
   "outputs": [
    {
     "name": "stdout",
     "output_type": "stream",
     "text": [
      "[ 1  2  3 20 21 22]\n",
      "[[ 1  2  3]\n",
      " [ 4  5  6]\n",
      " [20 21 22]]\n",
      "[[1 2 3]\n",
      " [4 5 6]]\n",
      "[[ 1  2  3  8  9 10]\n",
      " [ 4  5  6 11 12 13]]\n",
      "[[1 2]\n",
      " [4 5]]\n"
     ]
    }
   ],
   "source": [
    "a = np.array([1,2,3])\n",
    "b = np.array([[1,2,3],[4,5,6]])\n",
    "c = np.array([[8,9,10],[11,12,13]])\n",
    "x = np.array([20,21,22])\n",
    "\n",
    "# Concatentate a and x\n",
    "print(np.concatenate((a,x)))\n",
    "\n",
    "# Stack arrays row-wise\n",
    "bx = np.vstack((b,x))\n",
    "print(bx)\n",
    "\n",
    "# select first two rows\n",
    "print(bx[0:2,:])\n",
    "\n",
    "# Stack arrays column-wise\n",
    "bc = np.hstack((b,c))\n",
    "print(bc)\n",
    "\n",
    "# select first two columns\n",
    "print(bc[:,0:2])\n"
   ]
  },
  {
   "cell_type": "code",
   "execution_count": null,
   "metadata": {},
   "outputs": [],
   "source": []
  }
 ],
 "metadata": {
  "kernelspec": {
   "display_name": "Python 3",
   "language": "python",
   "name": "python3"
  },
  "language_info": {
   "codemirror_mode": {
    "name": "ipython",
    "version": 3
   },
   "file_extension": ".py",
   "mimetype": "text/x-python",
   "name": "python",
   "nbconvert_exporter": "python",
   "pygments_lexer": "ipython3",
   "version": "3.7.3"
  }
 },
 "nbformat": 4,
 "nbformat_minor": 2
}
